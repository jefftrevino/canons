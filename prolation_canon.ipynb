{
 "cells": [
  {
   "cell_type": "markdown",
   "metadata": {},
   "source": [
    "# A Pandas Prolation Canon"
   ]
  },
  {
   "cell_type": "markdown",
   "metadata": {},
   "source": [
    "### introduction\n",
    "This notebook creates a prolation canon from monophonic input line. It assumes that successive voice durations will be scaled by some increasing power, as specified in the input argument `augmentation_base`, i.e., a base of 2 would create relationships of twice or half as long between staves, a base of 3 relationships of three times or a third, etc."
   ]
  },
  {
   "cell_type": "markdown",
   "metadata": {},
   "source": [
    "### imports"
   ]
  },
  {
   "cell_type": "code",
   "execution_count": 1,
   "metadata": {},
   "outputs": [],
   "source": [
    "import abjad\n",
    "import pandas as pd"
   ]
  },
  {
   "cell_type": "code",
   "execution_count": 2,
   "metadata": {},
   "outputs": [],
   "source": [
    "%load_ext abjadext.ipython"
   ]
  },
  {
   "cell_type": "markdown",
   "metadata": {},
   "source": [
    "### stretch a single container - mutate is broken"
   ]
  },
  {
   "cell_type": "code",
   "execution_count": 277,
   "metadata": {},
   "outputs": [
    {
     "data": {
      "image/png": "[encoded data removed]"
     },
     "metadata": {},
     "output_type": "display_data"
    }
   ],
   "source": [
    "container = abjad.Container(r\"c' ~ c'16 d'8. e'4 f' ~ \\times 4/5 {f'16 c'' c'' ~ c'' c'' ~ } c''2.\")\n",
    "abjad.show(container)"
   ]
  },
  {
   "cell_type": "markdown",
   "metadata": {},
   "source": [
    "The result should be one measure long, but it's a bit longer than it should be, because an F4 remains a quarter note:"
   ]
  },
  {
   "cell_type": "code",
   "execution_count": 278,
   "metadata": {},
   "outputs": [
    {
     "data": {
      "image/png": "[encoded data removed]"
     },
     "metadata": {},
     "output_type": "display_data"
    }
   ],
   "source": [
    "abjad.mutate(container).scale(abjad.Multiplier(1,2))\n",
    "abjad.show(container)"
   ]
  },
  {
   "cell_type": "markdown",
   "metadata": {},
   "source": [
    "The result should be:"
   ]
  },
  {
   "cell_type": "code",
   "execution_count": 279,
   "metadata": {
    "scrolled": true
   },
   "outputs": [
    {
     "data": {
      "image/png": "[encoded data removed]"
     },
     "metadata": {},
     "output_type": "display_data"
    }
   ],
   "source": [
    "correct = abjad.Container(r\"c'8 ~ c'32 d'16. e'8 f' ~ \\times 4/5 {f'32 c'' c'' ~ c'' c'' ~ } c''4.\")\n",
    "abjad.show(correct)"
   ]
  },
  {
   "cell_type": "markdown",
   "metadata": {},
   "source": [
    "### _TODO: After fixing `Mutation.scale`, replace `stretch_container` to use `Mutation.scale` below_"
   ]
  },
  {
   "cell_type": "code",
   "execution_count": 227,
   "metadata": {},
   "outputs": [
    {
     "data": {
      "text/plain": [
       "Selection([Note(\"c'\\\\breve\"), Note(\"c'2\")])"
      ]
     },
     "execution_count": 227,
     "metadata": {},
     "output_type": "execute_result"
    }
   ],
   "source": [
    "maker = abjad.LeafMaker()\n",
    "maker([0], [(5,2)])"
   ]
  },
  {
   "cell_type": "code",
   "execution_count": 280,
   "metadata": {},
   "outputs": [],
   "source": [
    "def stretch_container(input_container, factor):\n",
    "    return abjad.Container([abjad.Note.from_pitch_and_duration(\n",
    "                            note.written_pitch, \n",
    "                            note.written_duration * factor) \n",
    "                            for note in abjad.iterate(input_container).leaves()])"
   ]
  },
  {
   "cell_type": "code",
   "execution_count": 221,
   "metadata": {},
   "outputs": [
    {
     "name": "stdout",
     "output_type": "stream",
     "text": [
      "LogicalTie([Note(\"c'4\"), Note(\"c'16\")])\n",
      "LogicalTie([Note(\"d'8.\")])\n",
      "LogicalTie([Note(\"e'4\")])\n",
      "LogicalTie([Note(\"f'4\")])\n",
      "LogicalTie([Note(\"c''4\")])\n",
      "LogicalTie([Note(\"c''4\")])\n",
      "LogicalTie([Note(\"c''4\")])\n"
     ]
    }
   ],
   "source": [
    "stretch_container(container, 2)"
   ]
  },
  {
   "cell_type": "code",
   "execution_count": 209,
   "metadata": {},
   "outputs": [
    {
     "data": {
      "image/png": "[encoded data removed]"
     },
     "metadata": {},
     "output_type": "display_data"
    }
   ],
   "source": [
    "stretch_container(input_container, 2)\n",
    "abjad.show(stretched_container)"
   ]
  },
  {
   "cell_type": "code",
   "execution_count": 203,
   "metadata": {
    "scrolled": true
   },
   "outputs": [
    {
     "data": {
      "image/png": "[encoded data removed]"
     },
     "metadata": {},
     "output_type": "display_data"
    }
   ],
   "source": [
    "container = abjad.Container(r\"c' d' e' f' \\times 2/3 {c'' c'' c''}\")\n",
    "abjad.show(container)"
   ]
  },
  {
   "cell_type": "code",
   "execution_count": 180,
   "metadata": {},
   "outputs": [
    {
     "name": "stdout",
     "output_type": "stream",
     "text": [
      "True\n",
      "True\n",
      "True\n",
      "True\n",
      "False\n"
     ]
    }
   ],
   "source": [
    "for obj in container:\n",
    "    print(isinstance(obj, abjad.Note))"
   ]
  },
  {
   "cell_type": "code",
   "execution_count": 181,
   "metadata": {},
   "outputs": [
    {
     "ename": "AttributeError",
     "evalue": "'Inspection' object has no attribute 'leaves'",
     "output_type": "error",
     "traceback": [
      "\u001b[0;31m---------------------------------------------------------------------------\u001b[0m",
      "\u001b[0;31mAttributeError\u001b[0m                            Traceback (most recent call last)",
      "\u001b[0;32m<ipython-input-181-99facc9d201e>\u001b[0m in \u001b[0;36m<module>\u001b[0;34m\u001b[0m\n\u001b[0;32m----> 1\u001b[0;31m \u001b[0mstretched_container\u001b[0m \u001b[0;34m=\u001b[0m \u001b[0mstretch_container\u001b[0m\u001b[0;34m(\u001b[0m\u001b[0mcontainer\u001b[0m\u001b[0;34m,\u001b[0m \u001b[0;36m2\u001b[0m\u001b[0;34m)\u001b[0m\u001b[0;34m\u001b[0m\u001b[0;34m\u001b[0m\u001b[0m\n\u001b[0m",
      "\u001b[0;32m<ipython-input-170-6d67cc361a00>\u001b[0m in \u001b[0;36mstretch_container\u001b[0;34m(input_container, factor)\u001b[0m\n\u001b[1;32m      1\u001b[0m \u001b[0;32mdef\u001b[0m \u001b[0mstretch_container\u001b[0m\u001b[0;34m(\u001b[0m\u001b[0minput_container\u001b[0m\u001b[0;34m,\u001b[0m \u001b[0mfactor\u001b[0m\u001b[0;34m)\u001b[0m\u001b[0;34m:\u001b[0m\u001b[0;34m\u001b[0m\u001b[0;34m\u001b[0m\u001b[0m\n\u001b[0;32m----> 2\u001b[0;31m     \u001b[0mleaves\u001b[0m \u001b[0;34m=\u001b[0m \u001b[0mabjad\u001b[0m\u001b[0;34m.\u001b[0m\u001b[0minspect\u001b[0m\u001b[0;34m(\u001b[0m\u001b[0minput_container\u001b[0m\u001b[0;34m)\u001b[0m\u001b[0;34m.\u001b[0m\u001b[0mleaves\u001b[0m\u001b[0;34m(\u001b[0m\u001b[0;34m)\u001b[0m\u001b[0;34m\u001b[0m\u001b[0;34m\u001b[0m\u001b[0m\n\u001b[0m\u001b[1;32m      3\u001b[0m     return abjad.Container([abjad.Note.from_pitch_and_duration(\n\u001b[1;32m      4\u001b[0m                             \u001b[0mnote\u001b[0m\u001b[0;34m.\u001b[0m\u001b[0mwritten_pitch\u001b[0m\u001b[0;34m,\u001b[0m\u001b[0;34m\u001b[0m\u001b[0;34m\u001b[0m\u001b[0m\n\u001b[1;32m      5\u001b[0m                             note.written_duration * factor) \n",
      "\u001b[0;31mAttributeError\u001b[0m: 'Inspection' object has no attribute 'leaves'"
     ]
    }
   ],
   "source": [
    "stretched_container = stretch_container(container, 2)"
   ]
  },
  {
   "cell_type": "markdown",
   "metadata": {},
   "source": [
    "Instead, we need to iterate through the leaves at the lowest level of the tree, not the objects immediately contained by the container (because the container contains a tuplet container which itself contains the diminished notes)."
   ]
  },
  {
   "cell_type": "code",
   "execution_count": 184,
   "metadata": {},
   "outputs": [
    {
     "name": "stdout",
     "output_type": "stream",
     "text": [
      "c'4\n",
      "d'4\n",
      "e'4\n",
      "f'4\n",
      "c''4\n",
      "c''4\n",
      "c''4\n"
     ]
    }
   ],
   "source": [
    "for leaf in abjad.iterate(container).leaves():\n",
    "    print(leaf)"
   ]
  },
  {
   "cell_type": "code",
   "execution_count": 189,
   "metadata": {},
   "outputs": [],
   "source": [
    "def stretch_container(input_container, factor):\n",
    "    for leaf in abjad.iterate(input_container).leaves():\n",
    "        \n",
    "    return abjad.Container([abjad.Note.from_pitch_and_duration(\n",
    "                            note.written_pitch, \n",
    "                            note.written_duration * factor) \n",
    "                            for note in abjad.iterate(input_container).leaves()])"
   ]
  },
  {
   "cell_type": "code",
   "execution_count": 190,
   "metadata": {},
   "outputs": [],
   "source": [
    "stretched_container = stretch_container(container, 2)"
   ]
  },
  {
   "cell_type": "code",
   "execution_count": 193,
   "metadata": {},
   "outputs": [],
   "source": [
    "tuplet = abjad.Tuplet((2,3), \"c' d' e'\")"
   ]
  },
  {
   "cell_type": "code",
   "execution_count": 197,
   "metadata": {},
   "outputs": [
    {
     "data": {
      "text/plain": [
       "Multiplier(4, 3)"
      ]
     },
     "execution_count": 197,
     "metadata": {},
     "output_type": "execute_result"
    }
   ],
   "source": [
    "tuplet.multiplier * 2"
   ]
  },
  {
   "cell_type": "code",
   "execution_count": 191,
   "metadata": {},
   "outputs": [
    {
     "data": {
      "image/png": "[encoded data removed]"
     },
     "metadata": {},
     "output_type": "display_data"
    }
   ],
   "source": [
    "abjad.show(stretched_container)"
   ]
  },
  {
   "cell_type": "code",
   "execution_count": 186,
   "metadata": {},
   "outputs": [],
   "source": [
    "def prolate_input_container(i, input_container, augmentation_base):\n",
    "    stretch_factor = augmentation_base/(2**i)\n",
    "    prolated_container = stretch_container(abjad.mutate(input_container).copy(), stretch_factor)\n",
    "    return prolated_container\n",
    "\n",
    "def make_empty_score(num_voices):\n",
    "    score = abjad.Score()\n",
    "    for i in range(num_voices):\n",
    "        score.append(abjad.Staff())\n",
    "    return score\n",
    "\n",
    "def fill_staff_with_copies_of_prolated_container(i, staff, prolated_container):\n",
    "    containers = [abjad.mutate(prolated_container).copy() * (2**i)]\n",
    "    staff.extend(containers)\n",
    "\n",
    "def make_prolation_canon(input_container, num_voices, augmentation_base=2):\n",
    "    score = make_empty_score(num_voices)\n",
    "    for i, staff in enumerate(score):\n",
    "        prolated_container = prolate_input_container(i, input_container, augmentation_base)\n",
    "        fill_staff_with_copies_of_prolated_container(i, staff, prolated_container)\n",
    "    return score"
   ]
  },
  {
   "cell_type": "code",
   "execution_count": 187,
   "metadata": {
    "scrolled": true
   },
   "outputs": [],
   "source": [
    "input_container = abjad.Container(\"c'1 d' e' f'\")"
   ]
  },
  {
   "cell_type": "code",
   "execution_count": 162,
   "metadata": {
    "scrolled": true
   },
   "outputs": [
    {
     "data": {
      "image/png": "[encoded data removed]"
     },
     "metadata": {},
     "output_type": "display_data"
    }
   ],
   "source": [
    "abjad.show(input_container)"
   ]
  },
  {
   "cell_type": "code",
   "execution_count": 163,
   "metadata": {},
   "outputs": [
    {
     "data": {
      "image/png": "[encoded data removed]"
     },
     "metadata": {},
     "output_type": "display_data"
    }
   ],
   "source": [
    "skeleton = make_prolation_canon(input_container, 4)\n",
    "abjad.show(skeleton)"
   ]
  },
  {
   "cell_type": "code",
   "execution_count": 164,
   "metadata": {},
   "outputs": [
    {
     "data": {
      "image/png": "[encoded data removed]"
     },
     "metadata": {},
     "output_type": "display_data"
    }
   ],
   "source": [
    "abjad.graph(skeleton)"
   ]
  }
 ],
 "metadata": {
  "kernelspec": {
   "display_name": "Python 3",
   "language": "python",
   "name": "python3"
  },
  "language_info": {
   "codemirror_mode": {
    "name": "ipython",
    "version": 3
   },
   "file_extension": ".py",
   "mimetype": "text/x-python",
   "name": "python",
   "nbconvert_exporter": "python",
   "pygments_lexer": "ipython3",
   "version": "3.7.4"
  }
 },
 "nbformat": 4,
 "nbformat_minor": 4
}
